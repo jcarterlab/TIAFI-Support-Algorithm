{
 "cells": [
  {
   "cell_type": "markdown",
   "id": "b0b96a19",
   "metadata": {},
   "source": [
    "# TIAFI Support Algorithm"
   ]
  },
  {
   "cell_type": "markdown",
   "id": "44b50f42",
   "metadata": {},
   "source": [
    "[TIAFI's](https://tiafi.org/) support algorithm aims to help an NGO supporting Syrian refugees in Izmir, Turkey to fairly and efficiently distribute 250 monthly food packages and 150 monthly hygiene packages among its thousands of service members. This notebook outlines how the eligibility score is calculated, shows how tuning the algorithm's time weight affects the resulting distribution and optimises the time weight based on the desired distribution."
   ]
  },
  {
   "cell_type": "markdown",
   "id": "f014bf72",
   "metadata": {},
   "source": [
    "## Algorithm"
   ]
  },
  {
   "cell_type": "markdown",
   "id": "9e5b9e3a",
   "metadata": {},
   "source": [
    "$$\n",
    "S_{𝑖} = \\frac{Z_{F𝑖}W_{F} + Z_{V𝑖}W_{V} + Z_{T𝑖}W_{T}}{n}\n",
    "$$\n",
    "\n",
    "<br/>\n",
    "\n",
    "Where... \n",
    "* S = score \n",
    "* 𝑖 = imaginary unit (1, 2, 3, 4... 𝑖)\n",
    "* Z = the z-score (deviance from the mean in standard deviations) of a given variable\n",
    "* W = the weight a given variable is multiplied by\n",
    "* F = financial situation (in Turkish Lira per family member on a monthly basis)\n",
    "* V = vulnerability (from a minimum of 1 to a maximum of 3)\n",
    "* T = time since last recieving a package (in days with an unknown default of 365)\n",
    "* n = the number of variables included (in this case 3)\n",
    "\n",
    "\n",
    "<br/>\n",
    "\n",
    "<details>\n",
    "<summary>Full version ▼</summary>\n",
    "\n",
    "$$\n",
    "S_{𝑖} = \\frac{ \\frac{F_{𝑖}-μ_{F} }{σ_{F} }W_{F} + \\frac{V_{𝑖}-μ_{V} }{σ_{V} }W_{V} + \\frac{T_{𝑖}-μ_{T} }{σ_{T} }W_{T} }{n}\n",
    "$$\n",
    "      \n",
    "* μ = the mean of a given variable  \n",
    "* σ = the standard deviation (how far the average value deviates from the mean) of a given variable\n",
    "    \n",
    "</details>\n",
    "<br/>"
   ]
  },
  {
   "cell_type": "markdown",
   "id": "e7858db2",
   "metadata": {},
   "source": [
    "## Tuning"
   ]
  },
  {
   "cell_type": "markdown",
   "id": "5b89b838",
   "metadata": {},
   "source": [
    "The tuning process experiments with different weights to find the percentage of people who would recieve a package at least once, the max number of times any single person would recieve it and how many people would recieve it the max number of times over an n month period.\n",
    "\n",
    "<br/>"
   ]
  },
  {
   "cell_type": "markdown",
   "id": "55e20e36",
   "metadata": {},
   "source": [
    "## Import data"
   ]
  },
  {
   "cell_type": "markdown",
   "id": "65d8bbdd",
   "metadata": {},
   "source": [
    "Imports the packages, defines the options and reads in the dataframes."
   ]
  },
  {
   "cell_type": "code",
   "execution_count": 1,
   "id": "accc8542",
   "metadata": {},
   "outputs": [],
   "source": [
    "import pandas as pd\n",
    "pd.options.mode.chained_assignment = None\n",
    "import numpy as np\n",
    "from collections import Counter\n",
    "import matplotlib.pyplot as plt\n",
    "\n",
    "# loads the initial data frame (based on the roughly 1,000 members already signed up to the support scheme)\n",
    "initial_data = pd.read_csv('C:/Users/HUAWEI/Desktop/TIAFI/Distribution list/Algorithm.csv')\n",
    "\n",
    "# replicates the initial dataframe 6 times to see how the algorithm would behave if all of TIAFI's members are signed up\n",
    "replicated_data = pd.concat([initial_data]*6).reset_index(drop=True)"
   ]
  },
  {
   "cell_type": "markdown",
   "id": "45671dca",
   "metadata": {},
   "source": [
    "## Parameters"
   ]
  },
  {
   "cell_type": "markdown",
   "id": "2259b5a5",
   "metadata": {},
   "source": [
    "These parameters can be altered to experiment with different kinds of simulations."
   ]
  },
  {
   "cell_type": "code",
   "execution_count": 2,
   "id": "c36118f5",
   "metadata": {},
   "outputs": [],
   "source": [
    "# sets which dataframe we want to use (initial_data ≈ 1,000 | replicated_data ≈ 6,000)\n",
    "dataframe = replicated_data\n",
    "\n",
    "# sets the number of months to simulate\n",
    "months = 12\n",
    "\n",
    "# sets the variable we want to alter - ('F' | 'V' | 'T')\n",
    "var = 'T'\n",
    "\n",
    "# creates of range of different weights to experiment with for plotting\n",
    "increment = 0.05\n",
    "target_weight = np.arange(0, 5, increment)\n",
    "\n",
    "# creates a pair of anchor weights to be held constant during plotting and optimisation\n",
    "financial, vunerability = 1, 0.5\n",
    "anchors = [financial, vunerability]\n",
    "\n",
    "# sets the optimisation targets\n",
    "recievers_percent = 90\n",
    "max_x_recieved = 4\n",
    "no_max_recievers = 10\n",
    "\n",
    "# sets the number of iterations for optimisation\n",
    "iterations = 40\n",
    "\n",
    "# sets a learning rate for optimisation\n",
    "learning_rate = 0.1"
   ]
  },
  {
   "cell_type": "markdown",
   "id": "9ded8feb",
   "metadata": {},
   "source": [
    "## Functions"
   ]
  },
  {
   "cell_type": "markdown",
   "id": "d9c6cae2",
   "metadata": {},
   "source": [
    "### Get simulations"
   ]
  },
  {
   "cell_type": "code",
   "execution_count": 3,
   "id": "ccadccae",
   "metadata": {},
   "outputs": [],
   "source": [
    "# creates an initial data frame\n",
    "# This is re-created at the end of each 12 month simulation. \n",
    "def create_df(df):\n",
    "    d = {\n",
    "        'id': dataframe.index.values,\n",
    "        'days': dataframe['days_elapsed_food'],\n",
    "        'money_score': dataframe['z_score_$'],\n",
    "        'vun_score': dataframe['rating_score']\n",
    "    }\n",
    "    df = pd.DataFrame(d)\n",
    "    return df\n",
    "\n",
    "# calculates a days and total score\n",
    "# The total score is re-calculated at the end of each 12 month simulation\n",
    "def calculate_score(df, var, weight, anchors):\n",
    "    mean = np.mean(df['days'])\n",
    "    sd = np.std(df['days'])\n",
    "    df['days_score'] = (df['days']-mean)/sd\n",
    "    # changes which weight is made variable and which are held constant\n",
    "    if(var=='F'):\n",
    "        df['total'] = ((df['money_score']*weight) + (df['vun_score']*anchors[0]) + (df['days_score']*anchors[1]))/3\n",
    "    elif(var=='V'):\n",
    "        df['total'] = ((df['money_score']*anchors[0]) + (df['vun_score']*weight) + (df['days_score']*anchors[1]))/3\n",
    "    else:\n",
    "        df['total'] = ((df['money_score']*anchors[0]) + (df['vun_score']*anchors[1]) + (df['days_score']*weight))/3\n",
    "\n",
    "# simulates an n month period by adding 30 days for each month\n",
    "# recalculates the score for each month\n",
    "def get_sim(df, var, weight, anchors, package):\n",
    "    # 150 winners are picked from 50% of the dataframe for the hygeine package\n",
    "    if(package=='hygiene'):\n",
    "        number_of_winners = 149\n",
    "        df = df.iloc[0:int(len(df)/2),:]\n",
    "    # 250 winners are picked from 100% of the dataframe for the food package\n",
    "    else:\n",
    "        number_of_winners = 249\n",
    "    # 30 days are added for each month and reset once they become a winner \n",
    "    winners = []\n",
    "    for i in range(months):\n",
    "        calculate_score(df, var, weight, anchors)\n",
    "        df['days'] = df['days'] + 30\n",
    "        df['days'].loc[df['days'] > 365] = 365\n",
    "        win = df.sort_values('total', ascending=False)[0:number_of_winners].index.values\n",
    "        df['days'].iloc[win] = 0\n",
    "        winners.append(win)\n",
    "\n",
    "    # returns unique recievers as a percentage\n",
    "    winners = [item for sublist in winners for item in sublist]\n",
    "    unique_percent = (len(np.unique(winners)) / len(df)) * 100\n",
    "    \n",
    "    # returns how many times the most common recievers recieve a package\n",
    "    most_common = Counter(winners).most_common(1)[0][1]\n",
    "    \n",
    "    # returns how many most common recievers there are\n",
    "    winner_count = 0\n",
    "    for i in range(len(np.unique(winners))):\n",
    "        if(winners.count(np.unique(winners)[i])==most_common):\n",
    "            winner_count += 1\n",
    "    \n",
    "    return [unique_percent, most_common, winner_count]\n",
    "\n",
    "# runs multiple simulations and creates a dataframe of the results\n",
    "def run_multiple_sims(df, weight, package, var='T'):\n",
    "    # returns the results of the simulation for each weight\n",
    "    unique_percent = []\n",
    "    most_common = []\n",
    "    max_reciever_no = []\n",
    "\n",
    "    for i in range(len(weight)):\n",
    "        df = create_df(df)\n",
    "        sim = get_sim(df, var, weight[i], anchors, package)\n",
    "        unique_percent.append(sim[0])\n",
    "        most_common.append(sim[1])\n",
    "        max_reciever_no.append(sim[2])\n",
    "\n",
    "    # creates a new data frame\n",
    "    d = {\n",
    "        'weight':weight,\n",
    "        'unique_percent':unique_percent,\n",
    "        'most_common':most_common,\n",
    "        'max_reciever_no':max_reciever_no\n",
    "    }\n",
    "    new_df = pd.DataFrame(d)\n",
    "    \n",
    "    return new_df"
   ]
  },
  {
   "cell_type": "markdown",
   "id": "c5e63f28",
   "metadata": {},
   "source": [
    "### Plot simulations"
   ]
  },
  {
   "cell_type": "code",
   "execution_count": 4,
   "id": "95c8b5eb",
   "metadata": {},
   "outputs": [],
   "source": [
    "# plots the results of the simulations\n",
    "def plot_sim_results(df):\n",
    "    # creates a sub plot for visualizing the results. \n",
    "    graph, (plot1, plot2, plot3) = plt.subplots(1, 3, figsize=(16, 4))\n",
    "\n",
    "    # visualizes the percentage of people recieving the food package at least once.\n",
    "    plot1.plot(df['weight'], df['unique_percent'])\n",
    "    plot1.set_title('% of receivers');\n",
    "    plot1.set_xlabel(var + ' Weight');\n",
    "    plot1.set_ylabel('%');\n",
    "    \n",
    "    # visualizes the percentage of people recieving the food package at least once.\n",
    "    plot2.plot(df['weight'], df['most_common'], color='red')\n",
    "    plot2.set_title('Max times received');\n",
    "    plot2.set_xlabel(var + ' Weight');\n",
    "    plot2.set_ylabel('Times');\n",
    "\n",
    "    # visualizes the percentage of people recieving the food package at least once.\n",
    "    plot3.plot(df['weight'], df['max_reciever_no'], color='green')\n",
    "    plot3.set_title('No. of max recievers');\n",
    "    plot3.set_xlabel(var + ' Weight');\n",
    "    plot3.set_ylabel('People');"
   ]
  },
  {
   "cell_type": "markdown",
   "id": "5492be9c",
   "metadata": {},
   "source": [
    "### Optimise weight(s)"
   ]
  },
  {
   "cell_type": "code",
   "execution_count": 5,
   "id": "99f35b95",
   "metadata": {},
   "outputs": [],
   "source": [
    "# returns an optimized weight for a given variable and package combination\n",
    "def optimize_weight(df, var, anchors, iterations, package='food'):\n",
    "    targets = ['recievers_percent', 'max_x_recieved', 'no_max_recievers']\n",
    "    weight = 1\n",
    "    error_rate = 100**100\n",
    "    increment = learning_rate\n",
    "    \n",
    "    weight_history = []\n",
    "    error_rate_history = []\n",
    "    recievers_percent_history = []\n",
    "    max_x_recieved_history = []\n",
    "    no_max_recievers_history = []\n",
    "    \n",
    "    print('Error rate:\\n')\n",
    "    \n",
    "    for i in range(iterations):\n",
    "        weight = weight + increment\n",
    "        new_df = create_df(df)\n",
    "        results = get_sim(new_df, var, weight, anchors, package=package)\n",
    "        \n",
    "        error = []\n",
    "        for i in range(len(results)):\n",
    "            # reduces the relative importance of number of max recievers  by dividing its error by 10\n",
    "            if(i == 2):\n",
    "                error.append( (abs((eval(targets[i]) - results[i]) / eval(targets[i]))) / 10 )\n",
    "            else:\n",
    "                error.append( abs((eval(targets[i]) - results[i]) / eval(targets[i])) )\n",
    "\n",
    "        error_rate = sum(error)\n",
    "        print(round(error_rate,3))\n",
    "        \n",
    "        weight_history.append(weight)\n",
    "        error_rate_history.append(error_rate)\n",
    "        recievers_percent_history.append(results[0])\n",
    "        max_x_recieved_history.append(results[1])\n",
    "        no_max_recievers_history.append(results[2])\n",
    "        \n",
    "    results_df = pd.DataFrame({'best_weight':weight_history, \n",
    "                               'error_rate':error_rate_history,\n",
    "                               'recievers_percent':recievers_percent_history,\n",
    "                               'max_x_recieved':max_x_recieved_history,\n",
    "                               'no_max_recievers':no_max_recievers_history})\n",
    "    \n",
    "    best_result = results_df[results_df['error_rate'] == results_df['error_rate'].min()]\n",
    "        \n",
    "    return best_result"
   ]
  },
  {
   "cell_type": "markdown",
   "id": "17aff588",
   "metadata": {},
   "source": [
    "## Food package"
   ]
  },
  {
   "cell_type": "markdown",
   "id": "3f77412d",
   "metadata": {},
   "source": [
    "These cells show what would happen if 250 food packages were distributed each month on 100% of the data and how tuning the allgorithm's weight(s) can help to achieve the desired distribution. "
   ]
  },
  {
   "cell_type": "markdown",
   "id": "f5864e10",
   "metadata": {},
   "source": [
    "### Simulation"
   ]
  },
  {
   "cell_type": "code",
   "execution_count": 6,
   "id": "8ae2aa6b",
   "metadata": {},
   "outputs": [
    {
     "data": {
      "image/png": "[encoded data removed]",
      "text/plain": [
       "<Figure size 1152x288 with 3 Axes>"
      ]
     },
     "metadata": {
      "needs_background": "light"
     },
     "output_type": "display_data"
    }
   ],
   "source": [
    "# create a new dataframe for the anlysis\n",
    "food_df = run_multiple_sims(dataframe, weight=target_weight, package='food', var='T')\n",
    "\n",
    "# plots the simulation results\n",
    "plot_sim_results(food_df)"
   ]
  },
  {
   "cell_type": "markdown",
   "id": "4cafc268",
   "metadata": {},
   "source": [
    "### Optimisation"
   ]
  },
  {
   "cell_type": "code",
   "execution_count": 7,
   "id": "a338f6fc",
   "metadata": {},
   "outputs": [
    {
     "name": "stdout",
     "output_type": "stream",
     "text": [
      "Error rate:\n",
      "\n",
      "2.454\n",
      "2.267\n",
      "2.23\n",
      "2.158\n",
      "2.111\n",
      "2.082\n",
      "2.062\n",
      "2.048\n",
      "2.062\n",
      "2.072\n",
      "2.082\n",
      "1.837\n",
      "1.597\n",
      "1.607\n",
      "1.607\n",
      "0.617\n",
      "0.374\n",
      "0.384\n",
      "0.136\n",
      "0.144\n",
      "0.144\n",
      "0.146\n",
      "0.146\n",
      "0.399\n",
      "0.399\n",
      "3.389\n",
      "3.389\n",
      "3.389\n",
      "3.389\n",
      "3.389\n",
      "3.389\n",
      "3.389\n",
      "3.389\n",
      "3.389\n",
      "3.389\n",
      "3.389\n",
      "3.389\n",
      "3.389\n",
      "3.389\n",
      "3.389\n"
     ]
    },
    {
     "data": {
      "text/html": [
       "<div>\n",
       "<style scoped>\n",
       "    .dataframe tbody tr th:only-of-type {\n",
       "        vertical-align: middle;\n",
       "    }\n",
       "\n",
       "    .dataframe tbody tr th {\n",
       "        vertical-align: top;\n",
       "    }\n",
       "\n",
       "    .dataframe thead th {\n",
       "        text-align: right;\n",
       "    }\n",
       "</style>\n",
       "<table border=\"1\" class=\"dataframe\">\n",
       "  <thead>\n",
       "    <tr style=\"text-align: right;\">\n",
       "      <th></th>\n",
       "      <th>best_weight</th>\n",
       "      <th>error_rate</th>\n",
       "      <th>recievers_percent</th>\n",
       "      <th>max_x_recieved</th>\n",
       "      <th>no_max_recievers</th>\n",
       "    </tr>\n",
       "  </thead>\n",
       "  <tbody>\n",
       "    <tr>\n",
       "      <th>18</th>\n",
       "      <td>2.9</td>\n",
       "      <td>0.136329</td>\n",
       "      <td>98.669623</td>\n",
       "      <td>4</td>\n",
       "      <td>6</td>\n",
       "    </tr>\n",
       "  </tbody>\n",
       "</table>\n",
       "</div>"
      ],
      "text/plain": [
       "    best_weight  error_rate  recievers_percent  max_x_recieved  \\\n",
       "18          2.9    0.136329          98.669623               4   \n",
       "\n",
       "    no_max_recievers  \n",
       "18                 6  "
      ]
     },
     "execution_count": 7,
     "metadata": {},
     "output_type": "execute_result"
    }
   ],
   "source": [
    "# finds an optimized weight\n",
    "optimize_weight(dataframe, var=var, anchors=anchors, iterations=iterations, package='food')"
   ]
  },
  {
   "cell_type": "markdown",
   "id": "ec4f8ea1",
   "metadata": {},
   "source": [
    "## Hygiene package"
   ]
  },
  {
   "cell_type": "markdown",
   "id": "d6d16971",
   "metadata": {},
   "source": [
    "These cells show what would happen if 150 hygeine packages were distributed each month on 50% of the data (only women will recieve this package) and how tuning the allgorithm's weight(s) can help to achieve the desired distribution. "
   ]
  },
  {
   "cell_type": "markdown",
   "id": "e83efffd",
   "metadata": {},
   "source": [
    "### Simulation"
   ]
  },
  {
   "cell_type": "code",
   "execution_count": 8,
   "id": "c3d7333a",
   "metadata": {},
   "outputs": [
    {
     "data": {
      "image/png": "[encoded data removed]",
      "text/plain": [
       "<Figure size 1152x288 with 3 Axes>"
      ]
     },
     "metadata": {
      "needs_background": "light"
     },
     "output_type": "display_data"
    }
   ],
   "source": [
    "# create a new dataframe for the anlysis\n",
    "hygeine_df = run_multiple_sims(dataframe, weight=target_weight, package='hygeine', var='T')\n",
    "\n",
    "# plots the simulation results\n",
    "plot_sim_results(hygeine_df)"
   ]
  },
  {
   "cell_type": "markdown",
   "id": "51972a31",
   "metadata": {},
   "source": [
    "### Optimisation"
   ]
  },
  {
   "cell_type": "code",
   "execution_count": 9,
   "id": "0d7206c3",
   "metadata": {},
   "outputs": [
    {
     "name": "stdout",
     "output_type": "stream",
     "text": [
      "Error rate:\n",
      "\n",
      "2.454\n",
      "2.267\n",
      "2.23\n",
      "2.158\n",
      "2.111\n",
      "2.082\n",
      "2.062\n",
      "2.048\n",
      "2.062\n",
      "2.072\n",
      "2.082\n",
      "1.837\n",
      "1.597\n",
      "1.607\n",
      "1.607\n",
      "0.617\n",
      "0.374\n",
      "0.384\n",
      "0.136\n",
      "0.144\n",
      "0.144\n",
      "0.146\n",
      "0.146\n",
      "0.399\n",
      "0.399\n",
      "3.389\n",
      "3.389\n",
      "3.389\n",
      "3.389\n",
      "3.389\n",
      "3.389\n",
      "3.389\n",
      "3.389\n",
      "3.389\n",
      "3.389\n",
      "3.389\n",
      "3.389\n",
      "3.389\n",
      "3.389\n",
      "3.389\n"
     ]
    },
    {
     "data": {
      "text/html": [
       "<div>\n",
       "<style scoped>\n",
       "    .dataframe tbody tr th:only-of-type {\n",
       "        vertical-align: middle;\n",
       "    }\n",
       "\n",
       "    .dataframe tbody tr th {\n",
       "        vertical-align: top;\n",
       "    }\n",
       "\n",
       "    .dataframe thead th {\n",
       "        text-align: right;\n",
       "    }\n",
       "</style>\n",
       "<table border=\"1\" class=\"dataframe\">\n",
       "  <thead>\n",
       "    <tr style=\"text-align: right;\">\n",
       "      <th></th>\n",
       "      <th>best_weight</th>\n",
       "      <th>error_rate</th>\n",
       "      <th>recievers_percent</th>\n",
       "      <th>max_x_recieved</th>\n",
       "      <th>no_max_recievers</th>\n",
       "    </tr>\n",
       "  </thead>\n",
       "  <tbody>\n",
       "    <tr>\n",
       "      <th>18</th>\n",
       "      <td>2.9</td>\n",
       "      <td>0.136329</td>\n",
       "      <td>98.669623</td>\n",
       "      <td>4</td>\n",
       "      <td>6</td>\n",
       "    </tr>\n",
       "  </tbody>\n",
       "</table>\n",
       "</div>"
      ],
      "text/plain": [
       "    best_weight  error_rate  recievers_percent  max_x_recieved  \\\n",
       "18          2.9    0.136329          98.669623               4   \n",
       "\n",
       "    no_max_recievers  \n",
       "18                 6  "
      ]
     },
     "execution_count": 9,
     "metadata": {},
     "output_type": "execute_result"
    }
   ],
   "source": [
    "# finds an optimized weight\n",
    "optimize_weight(dataframe, var=var, anchors=anchors, iterations=iterations, package='hygeine')"
   ]
  }
 ],
 "metadata": {
  "kernelspec": {
   "display_name": "Python 3 (ipykernel)",
   "language": "python",
   "name": "python3"
  },
  "language_info": {
   "codemirror_mode": {
    "name": "ipython",
    "version": 3
   },
   "file_extension": ".py",
   "mimetype": "text/x-python",
   "name": "python",
   "nbconvert_exporter": "python",
   "pygments_lexer": "ipython3",
   "version": "3.10.5"
  }
 },
 "nbformat": 4,
 "nbformat_minor": 5
}
